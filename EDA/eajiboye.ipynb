{
 "cells": [
  {
   "cell_type": "code",
   "execution_count": null,
   "metadata": {},
   "outputs": [],
   "source": [
    "import sys\n",
    "!{sys.executable} -m pip install altair vega_datasets"
   ]
  },
  {
   "cell_type": "code",
   "execution_count": null,
   "metadata": {},
   "outputs": [],
   "source": []
  }
 ],
 "metadata": {
  "interpreter": {
   "hash": "3f9183189ee3c3099d24a99803436c31db56fe00c6cb0642a5ccc44fd4285567"
  },
  "kernelspec": {
   "display_name": "Python 3.6.0 64-bit ('3.6.0': pyenv)",
   "name": "python3"
  },
  "language_info": {
   "name": "python",
   "version": "3.6.0"
  },
  "orig_nbformat": 4
 },
 "nbformat": 4,
 "nbformat_minor": 2
}
